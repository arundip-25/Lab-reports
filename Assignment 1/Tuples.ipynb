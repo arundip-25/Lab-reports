{
 "cells": [
  {
   "cell_type": "markdown",
   "id": "a13a0884",
   "metadata": {},
   "source": [
    "Python Tuples\n",
    "\n",
    "Tuple\n",
    "\n",
    "Tuples are used to store multiple items in a single variable.\n",
    "\n",
    "Tuple is one of 4 built-in data types in Python used to store collections of data, the other 3 are List, Set, and Dictionary, all with different qualities and usage.\n",
    "\n",
    "A tuple is a collection which is ordered and unchangeable.\n",
    "\n",
    "Tuples are written with round brackets."
   ]
  },
  {
   "cell_type": "code",
   "execution_count": null,
   "id": "5b89bf6e",
   "metadata": {},
   "outputs": [],
   "source": [
    "thistuple = (\"apple\", \"banana\", \"cherry\")\n",
    "print(thistuple)"
   ]
  },
  {
   "cell_type": "markdown",
   "id": "6291562a",
   "metadata": {},
   "source": [
    "('apple', 'banana', 'cherry')\n",
    "Tuple Items\n",
    "\n",
    "Tuple items are ordered, unchangeable, and allow duplicate values.\n",
    "\n",
    "Tuple items are indexed, the first item has index [0], the second item has index [1] etc.\n",
    "\n",
    "Ordered\n",
    "\n",
    "When we say that tuples are ordered, it means that the items have a defined order, and that order will not change.\n",
    "\n",
    "Unchangeable\n",
    "\n",
    "Tuples are unchangeable, meaning that we cannot change, add or remove items after the tuple has been created.\n",
    "\n",
    "Allow Duplicates\n",
    "\n",
    "Since tuples are indexed, they can have items with the same value:"
   ]
  },
  {
   "cell_type": "code",
   "execution_count": null,
   "id": "998509ed",
   "metadata": {},
   "outputs": [],
   "source": [
    "thistuple = (\"apple\", \"banana\", \"cherry\", \"apple\", \"cherry\")\n",
    "print(thistuple)\n"
   ]
  },
  {
   "cell_type": "markdown",
   "id": "834ba4ea",
   "metadata": {},
   "source": [
    "('apple', 'banana', 'cherry', 'apple', 'cherry')\n",
    "\n",
    "Tuple Length\n",
    "\n",
    "To determine how many items a tuple has, use the len() function:\n",
    "\n"
   ]
  },
  {
   "cell_type": "code",
   "execution_count": null,
   "id": "78d9c539",
   "metadata": {},
   "outputs": [],
   "source": [
    "thistuple = (\"apple\", \"banana\", \"cherry\")\n",
    "print(len(thistuple))\n"
   ]
  },
  {
   "cell_type": "markdown",
   "id": "a4e3c479",
   "metadata": {},
   "source": [
    "Tuple Items - Data Types\n",
    "\n",
    "Tuple items can be of any data type:\n",
    "\n"
   ]
  },
  {
   "cell_type": "code",
   "execution_count": null,
   "id": "86ccfb72",
   "metadata": {},
   "outputs": [],
   "source": [
    "tuple1 = (\"apple\", \"banana\", \"cherry\")\n",
    "tuple2 = (1, 5, 7, 9, 3)\n",
    "tuple3 = (True, False, False)\n"
   ]
  },
  {
   "cell_type": "markdown",
   "id": "4525a7d3",
   "metadata": {},
   "source": [
    "A tuple can contain different data types:\n",
    "\n"
   ]
  },
  {
   "cell_type": "code",
   "execution_count": null,
   "id": "31945b3a",
   "metadata": {},
   "outputs": [],
   "source": [
    "tuple1 = (\"abc\", 34, True, 40, \"male\")\n"
   ]
  },
  {
   "cell_type": "markdown",
   "id": "376e49fa",
   "metadata": {},
   "source": [
    "Access Tuple Items\n",
    "\n",
    "You can access tuple items by referring to the index number, inside square brackets:\n",
    "\n"
   ]
  },
  {
   "cell_type": "code",
   "execution_count": null,
   "id": "d863e38d",
   "metadata": {},
   "outputs": [],
   "source": [
    "thistuple = (\"apple\", \"banana\", \"cherry\")\n",
    "print(thistuple[1])\n"
   ]
  },
  {
   "cell_type": "markdown",
   "id": "9afe86d2",
   "metadata": {},
   "source": [
    "Negative Indexing\n",
    "\n",
    "Negative indexing means start from the end.\n",
    "\n",
    "-1 refers to the last item, -2 refers to the second last item etc.\n",
    "\n"
   ]
  },
  {
   "cell_type": "code",
   "execution_count": null,
   "id": "bd454d02",
   "metadata": {},
   "outputs": [],
   "source": [
    "thistuple = (\"apple\", \"banana\", \"cherry\")\n",
    "print(thistuple[-1])\n"
   ]
  },
  {
   "cell_type": "markdown",
   "id": "8a6de326",
   "metadata": {},
   "source": [
    "Range of Indexes\n",
    "\n",
    "You can specify a range of indexes by specifying where to start and where to end the range.\n",
    "\n",
    "When specifying a range, the return value will be a new tuple with the specified items.\n",
    "\n"
   ]
  },
  {
   "cell_type": "code",
   "execution_count": null,
   "id": "a4133518",
   "metadata": {},
   "outputs": [],
   "source": [
    "thistuple = (\"apple\", \"banana\", \"cherry\", \"orange\", \"kiwi\", \"melon\", \"mango\")\n",
    "print(thistuple[2:5])\n"
   ]
  },
  {
   "cell_type": "markdown",
   "id": "3bb9830d",
   "metadata": {},
   "source": [
    "('cherry', 'orange', 'kiwi')\n",
    "\n",
    "Range of Negative Indexes\n",
    "\n",
    "Specify negative indexes if you want to start the search from the end of the tuple:\n",
    "\n"
   ]
  },
  {
   "cell_type": "code",
   "execution_count": null,
   "id": "832fd123",
   "metadata": {},
   "outputs": [],
   "source": [
    "thistuple = (\"apple\", \"banana\", \"cherry\", \"orange\", \"kiwi\", \"melon\", \"mango\")\n",
    "print(thistuple[-4:-1])\n"
   ]
  },
  {
   "cell_type": "markdown",
   "id": "24c2ab63",
   "metadata": {},
   "source": [
    "('orange', 'kiwi', 'melon')\n",
    "\n",
    "Python - Update Tuples\n",
    "\n",
    "Change Tuple Values\n",
    "\n",
    "Once a tuple is created, you cannot change its values. Tuples are unchangeable, or immutable as it also is called.\n",
    "\n",
    "But there is a workaround. You can convert the tuple into a list, change the list, and convert the list back into a tuple.\n",
    "\n"
   ]
  },
  {
   "cell_type": "code",
   "execution_count": null,
   "id": "9d8a3368",
   "metadata": {},
   "outputs": [],
   "source": [
    "x = (\"apple\", \"banana\", \"cherry\")\n",
    "y = list(x)\n",
    "y[1] = \"kiwi\"\n",
    "x = tuple(y)\n",
    "\n",
    "print(x)\n"
   ]
  },
  {
   "cell_type": "markdown",
   "id": "0dfa1da6",
   "metadata": {},
   "source": [
    "('apple', 'kiwi', 'cherry')\n",
    "\n",
    "Add Items\n",
    "\n",
    "Since tuples are immutable, they do not have a built-in append() method, but there are other ways to add items to a tuple.\n",
    "\n",
    "1. Convert into a list: Just like the workaround for changing a tuple, you can convert it into a list, add your item(s), and convert it back into a tuple.\n"
   ]
  },
  {
   "cell_type": "code",
   "execution_count": null,
   "id": "b1b12615",
   "metadata": {},
   "outputs": [],
   "source": [
    "thistuple = (\"apple\", \"banana\", \"cherry\")\n",
    "y = list(thistuple)\n",
    "y.append(\"orange\")\n",
    "thistuple = tuple(y)\n"
   ]
  },
  {
   "cell_type": "markdown",
   "id": "5e1f7111",
   "metadata": {},
   "source": [
    "2. Add tuple to a tuple. You are allowed to add tuples to tuples, so if you want to add one item, (or many), create a new tuple with the item(s), and add it to the existing tuple:"
   ]
  },
  {
   "cell_type": "code",
   "execution_count": null,
   "id": "581289c6",
   "metadata": {},
   "outputs": [],
   "source": [
    "thistuple = (\"apple\", \"banana\", \"cherry\")\n",
    "y = (\"orange\",)\n",
    "thistuple += y\n",
    "\n",
    "print(thistuple)\n"
   ]
  },
  {
   "cell_type": "markdown",
   "metadata": {},
   "source": [
    "('apple', 'banana', 'cherry', 'orange')\n",
    "\n",
    "Remove Items\n",
    "\n",
    "Tuples are unchangeable, so you cannot remove items from it, but you can use the same workaround as we used for changing and adding tuple items:\n",
    "\n"
   ]
  },
  {
   "cell_type": "code",
   "execution_count": null,
   "id": "73835167",
   "metadata": {},
   "outputs": [],
   "source": [
    "thistuple = (\"apple\", \"banana\", \"cherry\")\n",
    "y = list(thistuple)\n",
    "y.remove(\"apple\")\n",
    "thistuple = tuple(y)\n"
   ]
  },
  {
   "cell_type": "markdown",
   "id": "741c25c2",
   "metadata": {},
   "source": [
    "Unpacking a Tuple\n",
    "\n",
    "When we create a tuple, we normally assign values to it. This is called \"packing\" a tuple:\n",
    "\n",
    "packing in tuple\n",
    "\n"
   ]
  },
  {
   "cell_type": "code",
   "execution_count": null,
   "id": "2754ee70",
   "metadata": {},
   "outputs": [],
   "source": [
    "fruits = (\"apple\", \"banana\", \"cherry\")\n"
   ]
  },
  {
   "cell_type": "markdown",
   "id": "f7628b30",
   "metadata": {},
   "source": [
    "unpacking tuple\n",
    "\n"
   ]
  },
  {
   "cell_type": "code",
   "execution_count": null,
   "id": "16b09a42",
   "metadata": {},
   "outputs": [],
   "source": [
    "fruits = (\"apple\", \"banana\", \"cherry\")\n",
    "\n",
    "(green, yellow, red) = fruits\n",
    "\n",
    "print(green)\n",
    "print(yellow)\n",
    "print(red)\n"
   ]
  },
  {
   "cell_type": "markdown",
   "id": "32fb26eb",
   "metadata": {},
   "source": [
    "apple\n",
    "banana\n",
    "cherry\n",
    "Using Asterisk*\n",
    "\n",
    "If the number of variables is less than the number of values, you can add an * to the variable name and the values will be assigned to the variable as a list:\n",
    "\n"
   ]
  },
  {
   "cell_type": "code",
   "execution_count": null,
   "id": "ffe21bde",
   "metadata": {},
   "outputs": [],
   "source": [
    "fruits = (\"apple\", \"banana\", \"cherry\", \"strawberry\", \"raspberry\")\n",
    "\n",
    "(green, yellow, *red) = fruits\n",
    "\n",
    "print(green)\n",
    "print(yellow)\n",
    "print(red\n"
   ]
  },
  {
   "cell_type": "markdown",
   "id": "854dc69a",
   "metadata": {},
   "source": [
    "apple\n",
    "\n",
    "banana\n",
    "\n",
    "['cherry', 'strawberry', 'raspberry']\n",
    "\n",
    "Loop through tuple\n",
    "\n"
   ]
  },
  {
   "cell_type": "code",
   "execution_count": null,
   "id": "fd966180",
   "metadata": {},
   "outputs": [],
   "source": [
    "thistuple = (\"apple\", \"banana\", \"cherry\")\n",
    "for x in thistuple:\n",
    "  print(x)"
   ]
  },
  {
   "cell_type": "markdown",
   "metadata": {},
   "source": [
    "apple\n",
    "\n",
    "banana\n",
    "\n",
    "cherry"
   ]
  }
 ],
 "metadata": {
  "language_info": {
   "name": "python"
  }
 },
 "nbformat": 4,
 "nbformat_minor": 5
}
